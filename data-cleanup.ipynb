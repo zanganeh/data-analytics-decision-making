{
 "cells": [
  {
   "cell_type": "code",
   "execution_count": 1,
   "id": "740fa0d3-3c6d-43ed-b220-a95ac6c87c8d",
   "metadata": {},
   "outputs": [
    {
     "name": "stdout",
     "output_type": "stream",
     "text": [
      "Requirement already satisfied: pandas in c:\\users\\admin\\appdata\\local\\programs\\python\\python310\\lib\\site-packages (from -r requirements.txt (line 1)) (1.5.1)\n",
      "Requirement already satisfied: numpy in c:\\users\\admin\\appdata\\local\\programs\\python\\python310\\lib\\site-packages (from -r requirements.txt (line 2)) (1.23.4)\n",
      "Requirement already satisfied: scikit-learn in c:\\users\\admin\\appdata\\local\\programs\\python\\python310\\lib\\site-packages (from -r requirements.txt (line 3)) (1.1.3)\n",
      "Requirement already satisfied: matplotlib in c:\\users\\admin\\appdata\\local\\programs\\python\\python310\\lib\\site-packages (from -r requirements.txt (line 4)) (3.6.0)\n",
      "Requirement already satisfied: seaborn in c:\\users\\admin\\appdata\\local\\programs\\python\\python310\\lib\\site-packages (from -r requirements.txt (line 5)) (0.12.1)\n",
      "Requirement already satisfied: pytz>=2020.1 in c:\\users\\admin\\appdata\\local\\programs\\python\\python310\\lib\\site-packages (from pandas->-r requirements.txt (line 1)) (2022.5)\n",
      "Requirement already satisfied: python-dateutil>=2.8.1 in c:\\users\\admin\\appdata\\local\\programs\\python\\python310\\lib\\site-packages (from pandas->-r requirements.txt (line 1)) (2.8.2)\n",
      "Requirement already satisfied: joblib>=1.0.0 in c:\\users\\admin\\appdata\\local\\programs\\python\\python310\\lib\\site-packages (from scikit-learn->-r requirements.txt (line 3)) (1.2.0)\n",
      "Requirement already satisfied: scipy>=1.3.2 in c:\\users\\admin\\appdata\\local\\programs\\python\\python310\\lib\\site-packages (from scikit-learn->-r requirements.txt (line 3)) (1.9.3)\n",
      "Requirement already satisfied: threadpoolctl>=2.0.0 in c:\\users\\admin\\appdata\\local\\programs\\python\\python310\\lib\\site-packages (from scikit-learn->-r requirements.txt (line 3)) (3.1.0)\n",
      "Requirement already satisfied: contourpy>=1.0.1 in c:\\users\\admin\\appdata\\local\\programs\\python\\python310\\lib\\site-packages (from matplotlib->-r requirements.txt (line 4)) (1.0.6)\n",
      "Requirement already satisfied: kiwisolver>=1.0.1 in c:\\users\\admin\\appdata\\local\\programs\\python\\python310\\lib\\site-packages (from matplotlib->-r requirements.txt (line 4)) (1.4.4)\n",
      "Requirement already satisfied: pillow>=6.2.0 in c:\\users\\admin\\appdata\\local\\programs\\python\\python310\\lib\\site-packages (from matplotlib->-r requirements.txt (line 4)) (9.3.0)\n",
      "Requirement already satisfied: cycler>=0.10 in c:\\users\\admin\\appdata\\local\\programs\\python\\python310\\lib\\site-packages (from matplotlib->-r requirements.txt (line 4)) (0.11.0)\n",
      "Requirement already satisfied: pyparsing>=2.2.1 in c:\\users\\admin\\appdata\\local\\programs\\python\\python310\\lib\\site-packages (from matplotlib->-r requirements.txt (line 4)) (3.0.9)\n",
      "Requirement already satisfied: fonttools>=4.22.0 in c:\\users\\admin\\appdata\\local\\programs\\python\\python310\\lib\\site-packages (from matplotlib->-r requirements.txt (line 4)) (4.38.0)\n",
      "Requirement already satisfied: packaging>=20.0 in c:\\users\\admin\\appdata\\local\\programs\\python\\python310\\lib\\site-packages (from matplotlib->-r requirements.txt (line 4)) (21.3)\n",
      "Requirement already satisfied: six>=1.5 in c:\\users\\admin\\appdata\\local\\programs\\python\\python310\\lib\\site-packages (from python-dateutil>=2.8.1->pandas->-r requirements.txt (line 1)) (1.16.0)\n",
      "Note: you may need to restart the kernel to use updated packages.\n"
     ]
    },
    {
     "name": "stderr",
     "output_type": "stream",
     "text": [
      "\n",
      "[notice] A new release of pip available: 22.2.2 -> 22.3\n",
      "[notice] To update, run: C:\\Users\\Admin\\AppData\\Local\\Programs\\Python\\Python310\\python.exe -m pip install --upgrade pip\n"
     ]
    }
   ],
   "source": [
    "%pip install -r requirements.txt\n",
    "\n",
    "import pandas as pd\n",
    "import numpy as np"
   ]
  },
  {
   "cell_type": "code",
   "execution_count": 148,
   "id": "d6fb8101-7437-4d42-b530-e2ac2612b0e8",
   "metadata": {},
   "outputs": [],
   "source": [
    "df = pd.read_csv('./data/before-convert/interest_rate.csv')\n",
    "df['year'] = pd.DatetimeIndex(df['TIME']).year\n",
    "df['month'] = pd.DatetimeIndex(df['TIME']).month\n",
    "\n",
    "df = df.drop('TIME', axis=1)\n",
    "\n",
    "df = df.rename(columns = {'LOCATION':'location'})\n",
    "df = df.drop('Country', axis=1)\n",
    "\n",
    "longTerm = df.query('Subject == \"Long-term interest rates, Per cent per annum\"')\n",
    "longTerm = longTerm.rename(columns = {'Interest-Rate':'interest_rate_long_term'})\n",
    "longTerm = longTerm.drop('Subject', axis=1)\n",
    "\n",
    "shortTerm = df.query('Subject == \"Short-term interest rates, Per cent per annum\"')\n",
    "shortTerm = shortTerm.rename(columns = {'Interest-Rate':'interest_rate_short_term'})\n",
    "shortTerm = shortTerm.drop('Subject', axis=1)\n",
    "\n",
    "\n",
    "immediateTerm = df.query('Subject == \"Immediate interest rates, Call Money, Interbank Rate, Per cent per annum\"')\n",
    "immediateTerm = immediateTerm.rename(columns = {'Interest-Rate':'interest_rate_immediate_term'})\n",
    "immediateTerm = immediateTerm.drop('Subject', axis=1)\n",
    "\n",
    "df = pd.merge(longTerm, shortTerm, on=['location', 'year', 'month'] , how='inner', suffixes=('', '_delme'))\n",
    "df = pd.merge(df, immediateTerm, on=['location', 'year', 'month'] , how='inner', suffixes=('', '_delme'))\n",
    "df = df[[c for c in df.columns if not c.endswith('_delme')]]\n",
    "\n",
    "df.to_csv('./data/interest_rate.csv', index=False)"
   ]
  },
  {
   "cell_type": "code",
   "execution_count": 158,
   "id": "ae6b8bdf-847b-4482-a495-a708a716fb6e",
   "metadata": {},
   "outputs": [],
   "source": [
    "df_au = pd.read_csv('./data/before-convert/cpi_au.csv')\n",
    "\n",
    "df_au['year'] = pd.DatetimeIndex(df_au['TIME']).year\n",
    "df_au['month'] = pd.DatetimeIndex(df_au['TIME']).month\n",
    "\n",
    "df_au = df_au.drop('TIME', axis=1)\n",
    "\n",
    "df_au.head()\n",
    "\n",
    "df_us = pd.read_csv('./data/before-convert/cpi_us.csv')\n",
    "\n",
    "df_final_us = pd.DataFrame(columns=['year','month'])\n",
    "\n",
    "\n",
    "for index, row in df_us.iterrows():\n",
    "    for i in range(12):\n",
    "        df_final_us = pd.concat([df_final_us, pd.DataFrame.from_records([{'year':row[0],'month':i+1, 'cpi-index':row[i+1]}])])\n",
    "\n",
    "df_final_us['location'] = 'US'\n",
    "df_final_us = df_final_us.dropna()\n",
    "df_final_us['year'] = df_final_us['year'].astype(int)\n",
    "    \n",
    "df = pd.concat([df_au, df_final_us])\n",
    "\n",
    "df.to_csv('./data/cpi.csv', index=False)"
   ]
  }
 ],
 "metadata": {
  "kernelspec": {
   "display_name": "Python 3 (ipykernel)",
   "language": "python",
   "name": "python3"
  },
  "language_info": {
   "codemirror_mode": {
    "name": "ipython",
    "version": 3
   },
   "file_extension": ".py",
   "mimetype": "text/x-python",
   "name": "python",
   "nbconvert_exporter": "python",
   "pygments_lexer": "ipython3",
   "version": "3.10.8"
  }
 },
 "nbformat": 4,
 "nbformat_minor": 5
}
